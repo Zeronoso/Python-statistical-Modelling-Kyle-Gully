{
 "cells": [
  {
   "cell_type": "markdown",
   "metadata": {},
   "source": [
    "Build a regression model."
   ]
  },
  {
   "cell_type": "code",
   "execution_count": 2,
   "metadata": {},
   "outputs": [
    {
     "name": "stdout",
     "output_type": "stream",
     "text": [
      "                            OLS Regression Results                            \n",
      "==============================================================================\n",
      "Dep. Variable:                 Rating   R-squared:                       0.060\n",
      "Model:                            OLS   Adj. R-squared:                  0.046\n",
      "Method:                 Least Squares   F-statistic:                     4.235\n",
      "Date:                Wed, 30 Oct 2024   Prob (F-statistic):             0.0436\n",
      "Time:                        08:58:27   Log-Likelihood:                -42.533\n",
      "No. Observations:                  68   AIC:                             89.07\n",
      "Df Residuals:                      66   BIC:                             93.50\n",
      "Df Model:                           1                                         \n",
      "Covariance Type:            nonrobust                                         \n",
      "===================================================================================\n",
      "                      coef    std err          t      P>|t|      [0.025      0.975]\n",
      "-----------------------------------------------------------------------------------\n",
      "const               5.2179      0.095     54.886      0.000       5.028       5.408\n",
      "Bikes Available     0.0188      0.009      2.058      0.044       0.001       0.037\n",
      "==============================================================================\n",
      "Omnibus:                       31.145   Durbin-Watson:                   2.195\n",
      "Prob(Omnibus):                  0.000   Jarque-Bera (JB):               59.486\n",
      "Skew:                           1.617   Prob(JB):                     1.21e-13\n",
      "Kurtosis:                       6.245   Cond. No.                         17.9\n",
      "==============================================================================\n",
      "\n",
      "Notes:\n",
      "[1] Standard Errors assume that the covariance matrix of the errors is correctly specified.\n"
     ]
    }
   ],
   "source": [
    "import pandas as pd\n",
    "\n",
    "import statsmodels.api as sm\n",
    "\n",
    "combined_df = pd.read_csv('combined_df.csv')\n",
    "\n",
    "combined_df['Rating'] = combined_df['Rating'].replace('No rating provided', pd.NA).astype(float)\n",
    "combined_df.dropna(subset=['Bikes Available', 'Rating'], inplace= True)\n",
    "\n",
    "x = combined_df['Bikes Available']                                                                      # Setting Bikes available as the independent variable\n",
    "y = combined_df['Rating']                                                                               # Setting Ratings as the dependent variable\n",
    "\n",
    "x = sm.add_constant(x)\n",
    "model = sm.OLS(y,x).fit()\n",
    "\n",
    "print(model.summary())\n",
    "\n",
    "\n",
    "\n",
    "\n"
   ]
  },
  {
   "cell_type": "markdown",
   "metadata": {},
   "source": [
    "Provide model output and an interpretation of the results. "
   ]
  },
  {
   "cell_type": "code",
   "execution_count": null,
   "metadata": {},
   "outputs": [],
   "source": [
    "# With the model above. the expected rating value when bikes are zero is \"5.2179\", for each additional bike available, the rating expected to go up by 0.0188 on average with an R^2 value of 0.060 or 6% implying that\n",
    "# \"bikes available\" independent variable is not a strong predictor for Ratings by itself and other variables would need to be introduced to get a stronger prediction.\n",
    "\n",
    "\n",
    "# In conclusion. This model shows a weak, positive correlation between bikes available and rating. Meaning that on average, locations with more bikes have a slightly higher rating for nearby businesses. But with a R^2 value of\n",
    "# only 6% also indicates the model captures very little of variance in Rating. This can be due to the fact of little public interactions on Yelp/Foursquare leaving to either No ratings or very little ratings on said business locations\n",
    "# along with indicating that other factors take a much larger role in determining a businesses rating. \n",
    "\n",
    "\n",
    "\n"
   ]
  },
  {
   "cell_type": "markdown",
   "metadata": {},
   "source": [
    "# Stretch"
   ]
  },
  {
   "cell_type": "markdown",
   "metadata": {},
   "source": [
    "How can you turn the regression model into a classification model?"
   ]
  },
  {
   "cell_type": "code",
   "execution_count": 7,
   "metadata": {},
   "outputs": [
    {
     "name": "stdout",
     "output_type": "stream",
     "text": [
      "                Location   Latitude   Longitude  Free Bikes Station Name  \\\n",
      "0       Chilco & Barclay  49.291909 -123.140713        13.0          NaN   \n",
      "1   St George & Broadway  49.262321 -123.093060         0.0          NaN   \n",
      "2  Britannia Parking Lot  49.275882 -123.071865         0.0          NaN   \n",
      "3        Morton & Denman  49.288030 -123.142135        16.0          NaN   \n",
      "4    Thornton & National  49.273777 -123.092723        14.0          NaN   \n",
      "\n",
      "  Station Coordinates  Bikes Available Name Address Rating  \n",
      "0                 NaN              NaN  NaN     NaN    NaN  \n",
      "1                 NaN              NaN  NaN     NaN    NaN  \n",
      "2                 NaN              NaN  NaN     NaN    NaN  \n",
      "3                 NaN              NaN  NaN     NaN    NaN  \n",
      "4                 NaN              NaN  NaN     NaN    NaN  \n"
     ]
    }
   ],
   "source": [
    "\n",
    "\n"
   ]
  }
 ],
 "metadata": {
  "kernelspec": {
   "display_name": "base",
   "language": "python",
   "name": "python3"
  },
  "language_info": {
   "codemirror_mode": {
    "name": "ipython",
    "version": 3
   },
   "file_extension": ".py",
   "mimetype": "text/x-python",
   "name": "python",
   "nbconvert_exporter": "python",
   "pygments_lexer": "ipython3",
   "version": "3.12.4"
  }
 },
 "nbformat": 4,
 "nbformat_minor": 4
}
