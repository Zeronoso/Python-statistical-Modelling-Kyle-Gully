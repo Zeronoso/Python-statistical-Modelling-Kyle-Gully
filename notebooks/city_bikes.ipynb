{
 "cells": [
  {
   "cell_type": "markdown",
   "metadata": {},
   "source": [
    "# CityBikes"
   ]
  },
  {
   "cell_type": "markdown",
   "metadata": {},
   "source": [
    "Send a request to CityBikes for the city of your choice. "
   ]
  },
  {
   "cell_type": "code",
   "execution_count": null,
   "metadata": {},
   "outputs": [
    {
     "name": "stdout",
     "output_type": "stream",
     "text": [
      "Networkid: mobibikes\n",
      "Network Name: Mobi\n",
      "City: Vancouver\n"
     ]
    }
   ],
   "source": [
    "# first off I had to find the correct network_id for vancouver because \"vancouver\" wasn't working, so I did an request for said network id for vancouver as follows:\n",
    "import requests \n",
    "\n",
    "url = \"http://api.citybik.es/v2/networks\"\n",
    "\n",
    "response = requests.get(url)\n",
    "if response.status_code == 200:                                                      # checks if I got a valid response before continuing further.\n",
    "    data = response.json()                                                           # converts the JSON response into python dictionary which we can manipute more easily later on.\n",
    "    networks = data.get('networks',[])\n",
    "\n",
    "    for network in networks:\n",
    "        if 'vancouver' in network['location']['city'].lower():\n",
    "            print(f\"Networkid: {network['id']}\")\n",
    "            print(f\"Network Name: {network['name']}\")\n",
    "            print(f\"City: {network['location']['city']}\")                            # print lines to make sure we are getting the right networkid, name, and city.\n",
    "        "
   ]
  },
  {
   "cell_type": "code",
   "execution_count": null,
   "metadata": {},
   "outputs": [
    {
     "name": "stdout",
     "output_type": "stream",
     "text": [
      "Request returned positive\n"
     ]
    }
   ],
   "source": [
    "# now that we have the correct network id, we can move on to testing the request and see if we get a response for vancouver\n",
    "url = f\"http://api.citybik.es/v2/networks/mobibikes\"\n",
    "\n",
    "response = requests.get(url)\n",
    "if response.status_code == 200:\n",
    "    print(\"Request returned positive\")\n",
    "else:\n",
    "    print(\"request returned negative\")\n",
    "        "
   ]
  },
  {
   "cell_type": "markdown",
   "metadata": {},
   "source": [
    "Parse through the response to get the details you want for the bike stations in that city (latitude, longitude, number of bikes). "
   ]
  },
  {
   "cell_type": "code",
   "execution_count": null,
   "metadata": {},
   "outputs": [
    {
     "name": "stdout",
     "output_type": "stream",
     "text": [
      "Location: Chilco & Barclay\n",
      "Latitude: 49.291909\n",
      "Longitude: -123.140713\n",
      "Bikes Available: 9\n",
      "Location: St George & Broadway\n",
      "Latitude: 49.262321\n",
      "Longitude: -123.09306\n",
      "Bikes Available: 3\n",
      "Location: Britannia Parking Lot\n",
      "Latitude: 49.275882\n",
      "Longitude: -123.071865\n",
      "Bikes Available: 3\n",
      "Location: Morton & Denman\n",
      "Latitude: 49.28803\n",
      "Longitude: -123.142135\n",
      "Bikes Available: 10\n",
      "Location: Thornton & National\n",
      "Latitude: 49.273777\n",
      "Longitude: -123.092723\n",
      "Bikes Available: 5\n"
     ]
    }
   ],
   "source": [
    "url = f\"http://api.citybik.es/v2/networks/mobibikes\"\n",
    "\n",
    "response = requests.get(url)\n",
    "if response.status_code == 200:\n",
    "    data = response.json()\n",
    "    network = data.get('network',{})\n",
    "    stations = network.get('stations',[])\n",
    "\n",
    "    for station in stations[:5]:                                    # prints the specific name, coordinates, and free bikes available to every pinged location in the networkid area of field (vancouver)\n",
    "        print(f\"Location: {station['name']}\")\n",
    "        print(f\"Latitude: {station['latitude']}\")\n",
    "        print(f\"Longitude: {station['longitude']}\")\n",
    "        print(f\"Bikes Available: {station['free_bikes']}\")\n",
    "else: \n",
    "    print(\"request returned negative\")"
   ]
  },
  {
   "cell_type": "markdown",
   "metadata": {},
   "source": [
    "Put your parsed results into a DataFrame."
   ]
  },
  {
   "cell_type": "code",
   "execution_count": null,
   "metadata": {},
   "outputs": [
    {
     "name": "stdout",
     "output_type": "stream",
     "text": [
      "                  Location   Latitude   Longitude  Free Bikes  \\\n",
      "0         Chilco & Barclay  49.291909 -123.140713          13   \n",
      "1     St George & Broadway  49.262321 -123.093060           0   \n",
      "2    Britannia Parking Lot  49.275882 -123.071865           0   \n",
      "3          Morton & Denman  49.288030 -123.142135          16   \n",
      "4      Thornton & National  49.273777 -123.092723          14   \n",
      "..                     ...        ...         ...         ...   \n",
      "253          7th & Heather  49.265089 -123.119425           1   \n",
      "254        Union & Dunlevy  49.277595 -123.095830          10   \n",
      "255    Richards & Helmcken  49.277141 -123.122589           4   \n",
      "256        Keefer & Abbott  49.279821 -123.108020           9   \n",
      "257    8th & Prince Edward  49.263518 -123.095680           0   \n",
      "\n",
      "                  Coordinates  \n",
      "0    (49.291909, -123.140713)  \n",
      "1     (49.262321, -123.09306)  \n",
      "2    (49.275882, -123.071865)  \n",
      "3     (49.28803, -123.142135)  \n",
      "4    (49.273777, -123.092723)  \n",
      "..                        ...  \n",
      "253  (49.265089, -123.119425)  \n",
      "254   (49.277595, -123.09583)  \n",
      "255  (49.277141, -123.122589)  \n",
      "256   (49.279821, -123.10802)  \n",
      "257   (49.263518, -123.09568)  \n",
      "\n",
      "[258 rows x 5 columns]\n"
     ]
    }
   ],
   "source": [
    "import pandas\n",
    "\n",
    "url = \"http://api.citybik.es/v2/networks/mobibikes\"\n",
    "\n",
    "response = requests.get(url)\n",
    "if response.status_code == 200:\n",
    "    data = response.json()\n",
    "    network = data.get('network',{})\n",
    "    stations = network.get('stations',[])\n",
    "\n",
    "    station_location = []                                                                   #initializing lists to store data for later usage.\n",
    "    latitude = []\n",
    "    longitude = []\n",
    "    free_bikes = []\n",
    "\n",
    "    for station in stations:\n",
    "        station_location.append(station['name'])\n",
    "        latitude.append(station['latitude'])\n",
    "        longitude.append(station['longitude'])\n",
    "        free_bikes.append(station['free_bikes'])\n",
    "    \n",
    "    df = pandas.DataFrame({\n",
    "        'Location': station_location,\n",
    "        'Latitude': latitude,\n",
    "        'Longitude': longitude,\n",
    "        'Free Bikes': free_bikes\n",
    "    })\n",
    "    \n",
    "\n",
    "                                                                                             # saving the output into a csv file for later data manipulation.\n",
    "    df.to_csv('City_bikes', index=False)\n",
    "    print(df)\n",
    "else:\n",
    "    print(\"request returned negative\")"
   ]
  }
 ],
 "metadata": {
  "kernelspec": {
   "display_name": "base",
   "language": "python",
   "name": "python3"
  },
  "language_info": {
   "codemirror_mode": {
    "name": "ipython",
    "version": 3
   },
   "file_extension": ".py",
   "mimetype": "text/x-python",
   "name": "python",
   "nbconvert_exporter": "python",
   "pygments_lexer": "ipython3",
   "version": "3.12.4"
  }
 },
 "nbformat": 4,
 "nbformat_minor": 4
}
